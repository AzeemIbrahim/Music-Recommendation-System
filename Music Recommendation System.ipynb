{
 "cells": [
  {
   "cell_type": "code",
   "execution_count": 44,
   "id": "435f2d3b",
   "metadata": {},
   "outputs": [],
   "source": [
    "import pandas as pd\n",
    "from sklearn.tree import DecisionTreeClassifier\n",
    "# from sklearn.model_selection import train_test_split\n",
    "# from sklearn.metrics import accuracy_score\n",
    "from sklearn import tree\n",
    "\n",
    "music_data = pd.read_csv('music.csv')\n",
    "x = music_data.drop(columns =['genre'])\n",
    "y = music_data['genre']\n",
    "# x_train, x_test, y_train, y_test = train_test_split(x, y, test_size = 0.2)\n",
    "\n",
    "model =DecisionTreeClassifier()\n",
    "model.fit(x_train,y_train)\n",
    "# predictions = model.predict(x_test)\n",
    "model.fit(x, y)\n",
    "# score = accuracy_score(y_test, predictions)\n",
    "\n",
    "# model = joblib.load('music-recommender.joblib')\n",
    "# predictions = model.predict([[21,1]])\n",
    "# predictions\n",
    "tree.export_graphviz(model, out_file = 'music-recommender.dot',\n",
    "                    feature_names = ['age', 'gender'],\n",
    "                    class_names=sorted(y.unique()),\n",
    "                    label ='all',\n",
    "                    rounded=True,\n",
    "                    filled =True)\n"
   ]
  },
  {
   "cell_type": "code",
   "execution_count": null,
   "id": "401794c4",
   "metadata": {},
   "outputs": [],
   "source": []
  },
  {
   "cell_type": "code",
   "execution_count": null,
   "id": "98638e89",
   "metadata": {},
   "outputs": [],
   "source": []
  }
 ],
 "metadata": {
  "kernelspec": {
   "display_name": "Python 3 (ipykernel)",
   "language": "python",
   "name": "python3"
  },
  "language_info": {
   "codemirror_mode": {
    "name": "ipython",
    "version": 3
   },
   "file_extension": ".py",
   "mimetype": "text/x-python",
   "name": "python",
   "nbconvert_exporter": "python",
   "pygments_lexer": "ipython3",
   "version": "3.11.5"
  }
 },
 "nbformat": 4,
 "nbformat_minor": 5
}
